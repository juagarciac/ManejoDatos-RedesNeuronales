{
 "cells": [
  {
   "cell_type": "markdown",
   "metadata": {},
   "source": [
    "# Modelo de predicción de incumplimiento – Redes neuronales artificiales.\n",
    "\n",
    "En este código se tratara sobre la adaptación de datos si es necesario de la base de datos depurada,  la creación de distintos modelos probabilisticos, optimización del modelo que mejor funciono en su prototipo, se utilizara principalmente la librería tensorFlow de Python para la creación y entrenamiento de la red neuronal."
   ]
  },
  {
   "cell_type": "markdown",
   "metadata": {},
   "source": [
    "## Análisis de datos\n",
    "\n",
    "Exploraremos los datos para asegurarnos que estén en el formato correcto para ser utilizados y que no tienen valores nulos que afecten al modelo."
   ]
  },
  {
   "cell_type": "code",
   "execution_count": 21,
   "metadata": {},
   "outputs": [
    {
     "name": "stdout",
     "output_type": "stream",
     "text": [
      "        id  loan_amnt        term  int_rate  installment grade sub_grade  \\\n",
      "0  1077501     5000.0   36 months     10.65       162.87     B        B2   \n",
      "1  1076863    10000.0   36 months     13.49       339.31     C        C1   \n",
      "2  1075358     3000.0   60 months     12.69        67.79     B        B5   \n",
      "3  1075269     5000.0   36 months      7.90       156.46     A        A4   \n",
      "4  1069639     7000.0   60 months     15.96       170.08     C        C5   \n",
      "\n",
      "  home_ownership  annual_inc verification_status  ... delinq_2yrs  \\\n",
      "0           RENT     24000.0            Verified  ...         0.0   \n",
      "1           RENT     49200.0     Source Verified  ...         0.0   \n",
      "2           RENT     80000.0     Source Verified  ...         0.0   \n",
      "3           RENT     36000.0     Source Verified  ...         0.0   \n",
      "4           RENT     47004.0        Not Verified  ...         0.0   \n",
      "\n",
      "  earliest_cr_line  inq_last_6mths  open_acc pub_rec  revol_bal  revol_util  \\\n",
      "0         Jan-1985             1.0       3.0     0.0    13648.0        83.7   \n",
      "1         Feb-1996             1.0      10.0     0.0     5598.0        21.0   \n",
      "2         Jan-1996             0.0      15.0     0.0    27783.0        53.9   \n",
      "3         Nov-2004             3.0       9.0     0.0     7963.0        28.3   \n",
      "4         Jul-2005             1.0       7.0     0.0    17726.0        85.6   \n",
      "\n",
      "   total_acc  collections_12_mths_ex_med  acc_now_delinq  \n",
      "0        9.0                         0.0             0.0  \n",
      "1       37.0                         0.0             0.0  \n",
      "2       38.0                         0.0             0.0  \n",
      "3       12.0                         0.0             0.0  \n",
      "4       11.0                         0.0             0.0  \n",
      "\n",
      "[5 rows x 23 columns]\n"
     ]
    }
   ],
   "source": [
    "import pandas as pd\n",
    "df = pd.read_csv(\"Base_datos_Entrenamiento.csv\")\n",
    "print(df.head())"
   ]
  },
  {
   "cell_type": "code",
   "execution_count": 22,
   "metadata": {},
   "outputs": [
    {
     "name": "stdout",
     "output_type": "stream",
     "text": [
      "\n",
      "Valores nulos por columna:\n",
      "\n",
      "id                            0\n",
      "dti                           0\n",
      "collections_12_mths_ex_med    0\n",
      "total_acc                     0\n",
      "revol_util                    0\n",
      "revol_bal                     0\n",
      "pub_rec                       0\n",
      "open_acc                      0\n",
      "inq_last_6mths                0\n",
      "earliest_cr_line              0\n",
      "delinq_2yrs                   0\n",
      "purpose                       0\n",
      "loan_amnt                     0\n",
      "loan_status                   0\n",
      "verification_status           0\n",
      "annual_inc                    0\n",
      "home_ownership                0\n",
      "sub_grade                     0\n",
      "grade                         0\n",
      "installment                   0\n",
      "int_rate                      0\n",
      "term                          0\n",
      "acc_now_delinq                0\n",
      "dtype: int64\n"
     ]
    }
   ],
   "source": [
    "# Identificar valores nulos\n",
    "print(\"\\nValores nulos por columna:\\n\")\n",
    "print(df.isnull().sum().sort_values(ascending=False))"
   ]
  },
  {
   "cell_type": "markdown",
   "metadata": {},
   "source": [
    "No existen valores nulos, pero hay varias variables que estan desbalanceadas, sera necesario balancear las variables para poder utilizarlas sin generar problemas en la predicción."
   ]
  },
  {
   "cell_type": "code",
   "execution_count": 23,
   "metadata": {},
   "outputs": [
    {
     "name": "stdout",
     "output_type": "stream",
     "text": [
      "Valores únicos en loan_status:\n",
      "['Fully Paid' 'Current' 'Charged Off' 'Default' 'Late (31-120 days)'\n",
      " 'In Grace Period' 'Late (16-30 days)'\n",
      " 'Does not meet the credit policy. Status:Fully Paid'\n",
      " 'Does not meet the credit policy. Status:Charged Off' 'Issued']\n",
      "\n"
     ]
    }
   ],
   "source": [
    "lista=[\"loan_status\"]\n",
    "for col in lista:\n",
    "    print(f\"Valores únicos en {col}:\")\n",
    "    print(df[col].unique())\n",
    "    print()"
   ]
  },
  {
   "cell_type": "markdown",
   "metadata": {},
   "source": [
    "En este caso se busca simplificar la variable home_ownership ya que tiene muchos valores con un gran desbalance, con la unión de variables poco representativas, sera mejor disminuir la cantidad de valores para que solo tengan valores representativos"
   ]
  },
  {
   "cell_type": "code",
   "execution_count": 24,
   "metadata": {},
   "outputs": [],
   "source": [
    "df = df[~df['home_ownership'].isin(['OTHER', 'NONE', 'ANY'])]\n",
    "purpose_columns = [\n",
    "    \"moving\",\n",
    "    \"vacation\",\n",
    "    \"house\",\n",
    "    \"educational\",\n",
    "    \"renewable_energy\",\n",
    "    \"wedding\",\n",
    "    \"medical\",\n",
    "    \"car\",\n",
    "    \"small_business\",\n",
    "    \"major_purchase\",\n",
    "    \"other\"\n",
    "]\n",
    "\n",
    "df.loc[df[\"purpose\"].isin(purpose_columns), \"purpose\"] = \"other\""
   ]
  },
  {
   "cell_type": "markdown",
   "metadata": {},
   "source": [
    "Ahora es necesario realizar el mismo proceso para la variable principal, ya que loan_status sufre de un desbalanceo fuerte, simplificaremos las clases que describen el estado de pago o no de la deuda, y aunque estas clases se les da importancia por no cumplir las reglas del banco el cual recaudo los datos, no sabemos ni su situación y tampoco es representativo para el uso que buscamos darle, ya que solo importa el pago o impago y su probabilidad."
   ]
  },
  {
   "cell_type": "code",
   "execution_count": 25,
   "metadata": {},
   "outputs": [],
   "source": [
    "purpose_columns = [\"Does not meet the credit policy. Status:Fully Paid\",\"Fully Paid\"]\n",
    "df.loc[df[\"loan_status\"].isin(purpose_columns), \"loan_status\"] = \"Fully Paid\"\n",
    "\n",
    "purpose_columns = [\"Does not meet the credit policy. Status:Charged Off\",\"Charged Off\"]\n",
    "df.loc[df[\"loan_status\"].isin(purpose_columns), \"loan_status\"] = \"Charged Off\""
   ]
  },
  {
   "cell_type": "markdown",
   "metadata": {},
   "source": [
    "Se eliminarán las clases issued y default ya que no dan información destinada al objetivo del modelo probabilistico, ya que no predice el pago o impago, será mejor su eliminación."
   ]
  },
  {
   "cell_type": "code",
   "execution_count": 26,
   "metadata": {},
   "outputs": [],
   "source": [
    "columna = 'loan_status'  # Reemplaza con el nombre de la columna\n",
    "valor = 'Issued'  # Reemplaza con el valor que deseas eliminar\n",
    "\n",
    "df = df[df[columna] != valor]"
   ]
  },
  {
   "cell_type": "code",
   "execution_count": 27,
   "metadata": {},
   "outputs": [],
   "source": [
    "columna = 'loan_status'  # Reemplaza con el nombre de la columna\n",
    "valor = 'Default'  # Reemplaza con el valor que deseas eliminar\n",
    "\n",
    "df = df[df[columna] != valor]"
   ]
  },
  {
   "cell_type": "markdown",
   "metadata": {},
   "source": [
    "Esta grafica muestra los cambios realizados, y como se puede notar aún existen desbalances claros, en este caso se ha decidido aplicar una simplificación binaria ya que el objetivo es predecir el incumplimiento, no es necesario mantener el resto de las variables, y mantenerlas solo harán más difícil el balanceo, el cual es necesario para tener una red neuronal no sesgada."
   ]
  },
  {
   "cell_type": "code",
   "execution_count": 11,
   "metadata": {},
   "outputs": [
    {
     "data": {
      "image/png": "[encoded data removed]",
      "text/plain": [
       "<Figure size 800x400 with 1 Axes>"
      ]
     },
     "metadata": {},
     "output_type": "display_data"
    }
   ],
   "source": [
    "import matplotlib.pyplot as plt\n",
    "import seaborn as sns\n",
    "\n",
    "# ...existing code...\n",
    "lista=[\"loan_status\"]\n",
    "for col in lista:\n",
    "    plt.figure(figsize=(8,4))\n",
    "    if df[col].dtype == \"object\":\n",
    "        df[col].value_counts().plot(kind='bar')\n",
    "    else:\n",
    "        sns.histplot(data=df, x=col, kde=True)\n",
    "    plt.title(f\"Distribución de {col}\")\n",
    "    plt.show()"
   ]
  },
  {
   "cell_type": "code",
   "execution_count": 28,
   "metadata": {},
   "outputs": [],
   "source": [
    "df['target'] = df['loan_status'].apply(lambda x: 1 if x in ['Charged Off', 'Late (31-120 days)', 'In Grace Period', 'Late (16-30 days)'] else 0)"
   ]
  },
  {
   "cell_type": "code",
   "execution_count": 13,
   "metadata": {},
   "outputs": [
    {
     "data": {
      "image/png": "[encoded data removed]",
      "text/plain": [
       "<Figure size 800x400 with 1 Axes>"
      ]
     },
     "metadata": {},
     "output_type": "display_data"
    }
   ],
   "source": [
    "lista=[\"target\"]\n",
    "for col in lista:\n",
    "    plt.figure(figsize=(8,4))\n",
    "    if df[col].dtype == \"object\":\n",
    "        df[col].value_counts().plot(kind='bar')\n",
    "    else:\n",
    "        sns.histplot(data=df, x=col, kde=True)\n",
    "    plt.title(f\"Distribución de {col}\")\n",
    "    plt.show()"
   ]
  },
  {
   "cell_type": "markdown",
   "metadata": {},
   "source": [
    "Notando la clasificación 0 muestra de que es probable que el cliente mantenga su pago, y uno muestra la posibilidad del impago de la deuda, el desbalance es muy grande, pero combinando distintas estrategias podremos tener un modelo sin tanto sesgo, y la ventaja es que ante menos clases será más fácil aplicar las distintas estrategias de balance"
   ]
  },
  {
   "cell_type": "markdown",
   "metadata": {},
   "source": [
    "Ahora nos dedicaremos a preparar los datos para el entrenamiento, se aplicará la separación de la variable earliest_cr_line, para poder transformarlo a un formato compatible con redes neuronales, la segunda aplicar codificación para las variables compuestas de string, para la mayoria one-hot, y codificación cardinal para las variables que tienen orden como term."
   ]
  },
  {
   "cell_type": "markdown",
   "metadata": {},
   "source": [
    "# Preparación datos para entrenamiento para ser utilizado en el modelo probabilistico"
   ]
  },
  {
   "cell_type": "code",
   "execution_count": 29,
   "metadata": {},
   "outputs": [],
   "source": [
    "dEntrenamiento= df.copy()"
   ]
  },
  {
   "cell_type": "code",
   "execution_count": 30,
   "metadata": {},
   "outputs": [],
   "source": [
    "#eliminar variables no utiles para entrenar el modelo\n",
    "dEntrenamiento.drop([\"id\",\"loan_status\"], axis=1, inplace=True)"
   ]
  },
  {
   "cell_type": "code",
   "execution_count": 31,
   "metadata": {},
   "outputs": [
    {
     "name": "stdout",
     "output_type": "stream",
     "text": [
      "0         Jan-1985\n",
      "1         Feb-1996\n",
      "2         Jan-1996\n",
      "3         Nov-2004\n",
      "4         Jul-2005\n",
      "            ...   \n",
      "779989    Sep-2004\n",
      "779990    Mar-1974\n",
      "779991    Sep-2003\n",
      "779992    Oct-2003\n",
      "779993    Dec-2001\n",
      "Name: earliest_cr_line, Length: 771611, dtype: object\n"
     ]
    }
   ],
   "source": [
    "print(dEntrenamiento[\"earliest_cr_line\"])"
   ]
  },
  {
   "cell_type": "markdown",
   "metadata": {},
   "source": [
    "Es necesario cambiar el formato de esta variable, ya que las neuronas no aceptan string directamente, pero tampoco aceptan el formato dataframe, se ha decidido separa los años y meses en dos columnas distintas, se probaran las variables que más impacto generan, asi tambien podremos comprobar si el rendimiento de esta transformación  para la búsqueda de patrones es notable o no. "
   ]
  },
  {
   "cell_type": "code",
   "execution_count": 32,
   "metadata": {},
   "outputs": [],
   "source": [
    "import pandas as pd\n",
    "\n",
    "# Convert 'earliest_cr_line' to datetime\n",
    "dEntrenamiento['earliest_cr_line'] = pd.to_datetime(dEntrenamiento['earliest_cr_line'], format='%b-%Y')\n",
    "\n",
    "# Extract year and month\n",
    "dEntrenamiento['earliest_cr_year'] = dEntrenamiento['earliest_cr_line'].dt.year\n",
    "dEntrenamiento['earliest_cr_month'] = dEntrenamiento['earliest_cr_line'].dt.month\n",
    "\n",
    "# Optionally, drop the original column\n",
    "dEntrenamiento.drop('earliest_cr_line', axis=1, inplace=True)"
   ]
  },
  {
   "cell_type": "code",
   "execution_count": 33,
   "metadata": {},
   "outputs": [
    {
     "data": {
      "text/html": [
       "<div>\n",
       "<style scoped>\n",
       "    .dataframe tbody tr th:only-of-type {\n",
       "        vertical-align: middle;\n",
       "    }\n",
       "\n",
       "    .dataframe tbody tr th {\n",
       "        vertical-align: top;\n",
       "    }\n",
       "\n",
       "    .dataframe thead th {\n",
       "        text-align: right;\n",
       "    }\n",
       "</style>\n",
       "<table border=\"1\" class=\"dataframe\">\n",
       "  <thead>\n",
       "    <tr style=\"text-align: right;\">\n",
       "      <th></th>\n",
       "      <th>loan_amnt</th>\n",
       "      <th>term</th>\n",
       "      <th>int_rate</th>\n",
       "      <th>installment</th>\n",
       "      <th>grade</th>\n",
       "      <th>sub_grade</th>\n",
       "      <th>home_ownership</th>\n",
       "      <th>annual_inc</th>\n",
       "      <th>verification_status</th>\n",
       "      <th>purpose</th>\n",
       "      <th>...</th>\n",
       "      <th>open_acc</th>\n",
       "      <th>pub_rec</th>\n",
       "      <th>revol_bal</th>\n",
       "      <th>revol_util</th>\n",
       "      <th>total_acc</th>\n",
       "      <th>collections_12_mths_ex_med</th>\n",
       "      <th>acc_now_delinq</th>\n",
       "      <th>target</th>\n",
       "      <th>earliest_cr_year</th>\n",
       "      <th>earliest_cr_month</th>\n",
       "    </tr>\n",
       "  </thead>\n",
       "  <tbody>\n",
       "    <tr>\n",
       "      <th>0</th>\n",
       "      <td>5000.0</td>\n",
       "      <td>36 months</td>\n",
       "      <td>10.65</td>\n",
       "      <td>162.87</td>\n",
       "      <td>B</td>\n",
       "      <td>B2</td>\n",
       "      <td>RENT</td>\n",
       "      <td>24000.0</td>\n",
       "      <td>Verified</td>\n",
       "      <td>credit_card</td>\n",
       "      <td>...</td>\n",
       "      <td>3.0</td>\n",
       "      <td>0.0</td>\n",
       "      <td>13648.0</td>\n",
       "      <td>83.7</td>\n",
       "      <td>9.0</td>\n",
       "      <td>0.0</td>\n",
       "      <td>0.0</td>\n",
       "      <td>0</td>\n",
       "      <td>1985</td>\n",
       "      <td>1</td>\n",
       "    </tr>\n",
       "    <tr>\n",
       "      <th>1</th>\n",
       "      <td>10000.0</td>\n",
       "      <td>36 months</td>\n",
       "      <td>13.49</td>\n",
       "      <td>339.31</td>\n",
       "      <td>C</td>\n",
       "      <td>C1</td>\n",
       "      <td>RENT</td>\n",
       "      <td>49200.0</td>\n",
       "      <td>Source Verified</td>\n",
       "      <td>other</td>\n",
       "      <td>...</td>\n",
       "      <td>10.0</td>\n",
       "      <td>0.0</td>\n",
       "      <td>5598.0</td>\n",
       "      <td>21.0</td>\n",
       "      <td>37.0</td>\n",
       "      <td>0.0</td>\n",
       "      <td>0.0</td>\n",
       "      <td>0</td>\n",
       "      <td>1996</td>\n",
       "      <td>2</td>\n",
       "    </tr>\n",
       "    <tr>\n",
       "      <th>2</th>\n",
       "      <td>3000.0</td>\n",
       "      <td>60 months</td>\n",
       "      <td>12.69</td>\n",
       "      <td>67.79</td>\n",
       "      <td>B</td>\n",
       "      <td>B5</td>\n",
       "      <td>RENT</td>\n",
       "      <td>80000.0</td>\n",
       "      <td>Source Verified</td>\n",
       "      <td>other</td>\n",
       "      <td>...</td>\n",
       "      <td>15.0</td>\n",
       "      <td>0.0</td>\n",
       "      <td>27783.0</td>\n",
       "      <td>53.9</td>\n",
       "      <td>38.0</td>\n",
       "      <td>0.0</td>\n",
       "      <td>0.0</td>\n",
       "      <td>0</td>\n",
       "      <td>1996</td>\n",
       "      <td>1</td>\n",
       "    </tr>\n",
       "    <tr>\n",
       "      <th>3</th>\n",
       "      <td>5000.0</td>\n",
       "      <td>36 months</td>\n",
       "      <td>7.90</td>\n",
       "      <td>156.46</td>\n",
       "      <td>A</td>\n",
       "      <td>A4</td>\n",
       "      <td>RENT</td>\n",
       "      <td>36000.0</td>\n",
       "      <td>Source Verified</td>\n",
       "      <td>other</td>\n",
       "      <td>...</td>\n",
       "      <td>9.0</td>\n",
       "      <td>0.0</td>\n",
       "      <td>7963.0</td>\n",
       "      <td>28.3</td>\n",
       "      <td>12.0</td>\n",
       "      <td>0.0</td>\n",
       "      <td>0.0</td>\n",
       "      <td>0</td>\n",
       "      <td>2004</td>\n",
       "      <td>11</td>\n",
       "    </tr>\n",
       "    <tr>\n",
       "      <th>4</th>\n",
       "      <td>7000.0</td>\n",
       "      <td>60 months</td>\n",
       "      <td>15.96</td>\n",
       "      <td>170.08</td>\n",
       "      <td>C</td>\n",
       "      <td>C5</td>\n",
       "      <td>RENT</td>\n",
       "      <td>47004.0</td>\n",
       "      <td>Not Verified</td>\n",
       "      <td>debt_consolidation</td>\n",
       "      <td>...</td>\n",
       "      <td>7.0</td>\n",
       "      <td>0.0</td>\n",
       "      <td>17726.0</td>\n",
       "      <td>85.6</td>\n",
       "      <td>11.0</td>\n",
       "      <td>0.0</td>\n",
       "      <td>0.0</td>\n",
       "      <td>0</td>\n",
       "      <td>2005</td>\n",
       "      <td>7</td>\n",
       "    </tr>\n",
       "  </tbody>\n",
       "</table>\n",
       "<p>5 rows × 23 columns</p>\n",
       "</div>"
      ],
      "text/plain": [
       "   loan_amnt        term  int_rate  installment grade sub_grade  \\\n",
       "0     5000.0   36 months     10.65       162.87     B        B2   \n",
       "1    10000.0   36 months     13.49       339.31     C        C1   \n",
       "2     3000.0   60 months     12.69        67.79     B        B5   \n",
       "3     5000.0   36 months      7.90       156.46     A        A4   \n",
       "4     7000.0   60 months     15.96       170.08     C        C5   \n",
       "\n",
       "  home_ownership  annual_inc verification_status             purpose  ...  \\\n",
       "0           RENT     24000.0            Verified         credit_card  ...   \n",
       "1           RENT     49200.0     Source Verified               other  ...   \n",
       "2           RENT     80000.0     Source Verified               other  ...   \n",
       "3           RENT     36000.0     Source Verified               other  ...   \n",
       "4           RENT     47004.0        Not Verified  debt_consolidation  ...   \n",
       "\n",
       "   open_acc  pub_rec  revol_bal  revol_util  total_acc  \\\n",
       "0       3.0      0.0    13648.0        83.7        9.0   \n",
       "1      10.0      0.0     5598.0        21.0       37.0   \n",
       "2      15.0      0.0    27783.0        53.9       38.0   \n",
       "3       9.0      0.0     7963.0        28.3       12.0   \n",
       "4       7.0      0.0    17726.0        85.6       11.0   \n",
       "\n",
       "   collections_12_mths_ex_med  acc_now_delinq  target  earliest_cr_year  \\\n",
       "0                         0.0             0.0       0              1985   \n",
       "1                         0.0             0.0       0              1996   \n",
       "2                         0.0             0.0       0              1996   \n",
       "3                         0.0             0.0       0              2004   \n",
       "4                         0.0             0.0       0              2005   \n",
       "\n",
       "   earliest_cr_month  \n",
       "0                  1  \n",
       "1                  2  \n",
       "2                  1  \n",
       "3                 11  \n",
       "4                  7  \n",
       "\n",
       "[5 rows x 23 columns]"
      ]
     },
     "execution_count": 33,
     "metadata": {},
     "output_type": "execute_result"
    }
   ],
   "source": [
    "dEntrenamiento.head()"
   ]
  },
  {
   "cell_type": "markdown",
   "metadata": {},
   "source": [
    "El resto de variables que son string se transformaran en booleanos utilizando one-hot, esto separa cada valor único en una columna que muestra su existencia, asi para una serie de valores se convierten en columnas en las cuales solo una puede ser true."
   ]
  },
  {
   "cell_type": "code",
   "execution_count": 34,
   "metadata": {},
   "outputs": [],
   "source": [
    "# Identificar columnas de tipo string\n",
    "string_columns = dEntrenamiento.select_dtypes(include=['object']).columns.tolist()\n",
    "\n",
    "# Aplicar one-hot encoding y eliminar las columnas originales\n",
    "dEntrenamiento= pd.get_dummies(dEntrenamiento, columns=string_columns, drop_first=False)"
   ]
  },
  {
   "cell_type": "code",
   "execution_count": 35,
   "metadata": {},
   "outputs": [
    {
     "name": "stdout",
     "output_type": "stream",
     "text": [
      "<class 'pandas.core.frame.DataFrame'>\n",
      "Index: 771611 entries, 0 to 779993\n",
      "Data columns (total 71 columns):\n",
      " #   Column                               Non-Null Count   Dtype  \n",
      "---  ------                               --------------   -----  \n",
      " 0   loan_amnt                            771611 non-null  float64\n",
      " 1   int_rate                             771611 non-null  float64\n",
      " 2   installment                          771611 non-null  float64\n",
      " 3   annual_inc                           771611 non-null  float64\n",
      " 4   dti                                  771611 non-null  float64\n",
      " 5   delinq_2yrs                          771611 non-null  float64\n",
      " 6   inq_last_6mths                       771611 non-null  float64\n",
      " 7   open_acc                             771611 non-null  float64\n",
      " 8   pub_rec                              771611 non-null  float64\n",
      " 9   revol_bal                            771611 non-null  float64\n",
      " 10  revol_util                           771611 non-null  float64\n",
      " 11  total_acc                            771611 non-null  float64\n",
      " 12  collections_12_mths_ex_med           771611 non-null  float64\n",
      " 13  acc_now_delinq                       771611 non-null  float64\n",
      " 14  target                               771611 non-null  int64  \n",
      " 15  earliest_cr_year                     771611 non-null  int32  \n",
      " 16  earliest_cr_month                    771611 non-null  int32  \n",
      " 17  term_ 36 months                      771611 non-null  bool   \n",
      " 18  term_ 60 months                      771611 non-null  bool   \n",
      " 19  grade_A                              771611 non-null  bool   \n",
      " 20  grade_B                              771611 non-null  bool   \n",
      " 21  grade_C                              771611 non-null  bool   \n",
      " 22  grade_D                              771611 non-null  bool   \n",
      " 23  grade_E                              771611 non-null  bool   \n",
      " 24  grade_F                              771611 non-null  bool   \n",
      " 25  grade_G                              771611 non-null  bool   \n",
      " 26  sub_grade_A1                         771611 non-null  bool   \n",
      " 27  sub_grade_A2                         771611 non-null  bool   \n",
      " 28  sub_grade_A3                         771611 non-null  bool   \n",
      " 29  sub_grade_A4                         771611 non-null  bool   \n",
      " 30  sub_grade_A5                         771611 non-null  bool   \n",
      " 31  sub_grade_B1                         771611 non-null  bool   \n",
      " 32  sub_grade_B2                         771611 non-null  bool   \n",
      " 33  sub_grade_B3                         771611 non-null  bool   \n",
      " 34  sub_grade_B4                         771611 non-null  bool   \n",
      " 35  sub_grade_B5                         771611 non-null  bool   \n",
      " 36  sub_grade_C1                         771611 non-null  bool   \n",
      " 37  sub_grade_C2                         771611 non-null  bool   \n",
      " 38  sub_grade_C3                         771611 non-null  bool   \n",
      " 39  sub_grade_C4                         771611 non-null  bool   \n",
      " 40  sub_grade_C5                         771611 non-null  bool   \n",
      " 41  sub_grade_D1                         771611 non-null  bool   \n",
      " 42  sub_grade_D2                         771611 non-null  bool   \n",
      " 43  sub_grade_D3                         771611 non-null  bool   \n",
      " 44  sub_grade_D4                         771611 non-null  bool   \n",
      " 45  sub_grade_D5                         771611 non-null  bool   \n",
      " 46  sub_grade_E1                         771611 non-null  bool   \n",
      " 47  sub_grade_E2                         771611 non-null  bool   \n",
      " 48  sub_grade_E3                         771611 non-null  bool   \n",
      " 49  sub_grade_E4                         771611 non-null  bool   \n",
      " 50  sub_grade_E5                         771611 non-null  bool   \n",
      " 51  sub_grade_F1                         771611 non-null  bool   \n",
      " 52  sub_grade_F2                         771611 non-null  bool   \n",
      " 53  sub_grade_F3                         771611 non-null  bool   \n",
      " 54  sub_grade_F4                         771611 non-null  bool   \n",
      " 55  sub_grade_F5                         771611 non-null  bool   \n",
      " 56  sub_grade_G1                         771611 non-null  bool   \n",
      " 57  sub_grade_G2                         771611 non-null  bool   \n",
      " 58  sub_grade_G3                         771611 non-null  bool   \n",
      " 59  sub_grade_G4                         771611 non-null  bool   \n",
      " 60  sub_grade_G5                         771611 non-null  bool   \n",
      " 61  home_ownership_MORTGAGE              771611 non-null  bool   \n",
      " 62  home_ownership_OWN                   771611 non-null  bool   \n",
      " 63  home_ownership_RENT                  771611 non-null  bool   \n",
      " 64  verification_status_Not Verified     771611 non-null  bool   \n",
      " 65  verification_status_Source Verified  771611 non-null  bool   \n",
      " 66  verification_status_Verified         771611 non-null  bool   \n",
      " 67  purpose_credit_card                  771611 non-null  bool   \n",
      " 68  purpose_debt_consolidation           771611 non-null  bool   \n",
      " 69  purpose_home_improvement             771611 non-null  bool   \n",
      " 70  purpose_other                        771611 non-null  bool   \n",
      "dtypes: bool(54), float64(14), int32(2), int64(1)\n",
      "memory usage: 139.8 MB\n",
      "None\n"
     ]
    }
   ],
   "source": [
    "print(dEntrenamiento.info())"
   ]
  },
  {
   "cell_type": "markdown",
   "metadata": {},
   "source": [
    "Se utilizará para balancear dos técnicas, la primera es eliminar elementos de la clase mayoritaria, esto permitirá que la clase minoritaria tenga mayor peso en el entrenamiento, la técnica especifica es tomek link, para separar mejor las clases, y para permitir tener una mayor representación se usa smote para aumentar la cantidad de muestras para la clase minoritaria."
   ]
  },
  {
   "cell_type": "code",
   "execution_count": null,
   "metadata": {},
   "outputs": [],
   "source": [
    "from imblearn.under_sampling import TomekLinks\n",
    "from imblearn.over_sampling import SMOTE\n",
    "\n",
    "# Separar características y target\n",
    "X = dEntrenamiento.drop('target', axis=1)\n",
    "y = dEntrenamiento['target']\n",
    "\n",
    "# Submuestreo utilizando TomekLinks para eliminar muestras cercanas\n",
    "tl = TomekLinks()\n",
    "X_under, y_under = tl.fit_resample(X, y)\n",
    "\n",
    "# Sobremuestreo de la clase minoritaria hasta el 30% de la clase mayoritaria\n",
    "smote = SMOTE(sampling_strategy=0.3, random_state=42)\n",
    "X_balanced, y_balanced = smote.fit_resample(X_under, y_under)\n",
    "\n",
    "# Combinar las características balanceadas con el target\n",
    "dEntrenamiento_balanced = pd.concat([pd.DataFrame(X_balanced, columns=X.columns), pd.Series(y_balanced, name='target')], axis=1)\n",
    "\n",
    "# Verificar la distribución de clases después del balanceo\n",
    "print(\"Distribución de clases después del balanceo:\")\n",
    "print(y_balanced.value_counts())"
   ]
  },
  {
   "cell_type": "code",
   "execution_count": 1,
   "metadata": {},
   "outputs": [],
   "source": [
    "# codigo para usar los datos procesados anteriormente\n",
    "import pandas as pd\n",
    "dEntrenamiento = pd.read_csv(\"Datos_Entrenamiento.csv\")\n",
    "dEntrenamiento_balanced= pd.read_csv(\"Datos_Entrenamiento_Balanceados.csv\")"
   ]
  },
  {
   "cell_type": "markdown",
   "metadata": {},
   "source": [
    "Aunque se pueda igualar las clases en este caso no es recomendable, la clase minoritaria originalmente tenía una representación muy baja, será mejor utilizar pesos en el modelo para que la red neuronal tenga más en cuenta la clase minoritaria, asi no será necesario eliminar mucha información de la clase mayoritaria ni tampoco tener mucha información repetida por parte de la clase minoritaria."
   ]
  },
  {
   "cell_type": "code",
   "execution_count": 24,
   "metadata": {},
   "outputs": [
    {
     "data": {
      "image/png": "[encoded data removed]",
      "text/plain": [
       "<Figure size 800x400 with 1 Axes>"
      ]
     },
     "metadata": {},
     "output_type": "display_data"
    }
   ],
   "source": [
    "import matplotlib.pyplot as plt\n",
    "import seaborn as sns\n",
    "lista=[\"target\"]\n",
    "for col in lista:\n",
    "    plt.figure(figsize=(8,4))\n",
    "    if dEntrenamiento_balanced[col].dtype == \"object\":\n",
    "        dEntrenamiento_balanced[col].value_counts().plot(kind='bar')\n",
    "    else:\n",
    "        sns.histplot(data=dEntrenamiento_balanced, x=col, kde=True)\n",
    "    plt.title(f\"Distribución de {col}\")\n",
    "    plt.show()"
   ]
  },
  {
   "cell_type": "markdown",
   "metadata": {},
   "source": [
    "# Entrenamiento y optimización de la red neuronal"
   ]
  },
  {
   "cell_type": "markdown",
   "metadata": {},
   "source": [
    "Para mejorar el modelo se ha decido aplicar varias estrategias, la primera es normalizar los datos, asi puede aumentar la precisión del modelo, tambien se ha añadido el peso de las clases, asi la red neuronal puede darle mayor importancia y evite que la representación menor de la clase minoritaria afecte el cómo decide las clases.\n",
    "\n",
    "La red neuronal se compone de dos capas de 32 y 16 neuronas con activación relu con la capa de salida de una neurona con una activación sigmoide, la compilación del modelo está compuesta por el optimizador Adaptive Moment Estimation, la función de perdida es binary_crossentropy, útil en este caso por ser una clasificación binaria, y las métricas de optimización se decidió por el ROC siglas de área bajo la curva, PR Calcula el área bajo la curva de precisión-recall, útil en problemas con clases desbalanceadas.\n"
   ]
  },
  {
   "cell_type": "code",
   "execution_count": 2,
   "metadata": {},
   "outputs": [
    {
     "name": "stderr",
     "output_type": "stream",
     "text": [
      "2025-01-30 17:25:00.679938: E external/local_xla/xla/stream_executor/cuda/cuda_fft.cc:485] Unable to register cuFFT factory: Attempting to register factory for plugin cuFFT when one has already been registered\n",
      "2025-01-30 17:25:00.909645: E external/local_xla/xla/stream_executor/cuda/cuda_dnn.cc:8454] Unable to register cuDNN factory: Attempting to register factory for plugin cuDNN when one has already been registered\n",
      "2025-01-30 17:25:00.972550: E external/local_xla/xla/stream_executor/cuda/cuda_blas.cc:1452] Unable to register cuBLAS factory: Attempting to register factory for plugin cuBLAS when one has already been registered\n",
      "2025-01-30 17:25:01.338596: I tensorflow/core/platform/cpu_feature_guard.cc:210] This TensorFlow binary is optimized to use available CPU instructions in performance-critical operations.\n",
      "To enable the following instructions: AVX2 FMA, in other operations, rebuild TensorFlow with the appropriate compiler flags.\n",
      "2025-01-30 17:25:03.977406: W tensorflow/compiler/tf2tensorrt/utils/py_utils.cc:38] TF-TRT Warning: Could not find TensorRT\n",
      "/home/juan/miniconda3/envs/tf-wsl/lib/python3.9/site-packages/keras/src/layers/core/dense.py:87: UserWarning: Do not pass an `input_shape`/`input_dim` argument to a layer. When using Sequential models, prefer using an `Input(shape)` object as the first layer in the model instead.\n",
      "  super().__init__(activity_regularizer=activity_regularizer, **kwargs)\n",
      "WARNING: All log messages before absl::InitializeLog() is called are written to STDERR\n",
      "I0000 00:00:1738275914.128207    1040 cuda_executor.cc:1001] could not open file to read NUMA node: /sys/bus/pci/devices/0000:01:00.0/numa_node\n",
      "Your kernel may have been built without NUMA support.\n",
      "I0000 00:00:1738275914.918677    1040 cuda_executor.cc:1001] could not open file to read NUMA node: /sys/bus/pci/devices/0000:01:00.0/numa_node\n",
      "Your kernel may have been built without NUMA support.\n",
      "I0000 00:00:1738275914.918920    1040 cuda_executor.cc:1001] could not open file to read NUMA node: /sys/bus/pci/devices/0000:01:00.0/numa_node\n",
      "Your kernel may have been built without NUMA support.\n",
      "I0000 00:00:1738275914.925377    1040 cuda_executor.cc:1001] could not open file to read NUMA node: /sys/bus/pci/devices/0000:01:00.0/numa_node\n",
      "Your kernel may have been built without NUMA support.\n",
      "I0000 00:00:1738275914.925677    1040 cuda_executor.cc:1001] could not open file to read NUMA node: /sys/bus/pci/devices/0000:01:00.0/numa_node\n",
      "Your kernel may have been built without NUMA support.\n",
      "I0000 00:00:1738275914.925812    1040 cuda_executor.cc:1001] could not open file to read NUMA node: /sys/bus/pci/devices/0000:01:00.0/numa_node\n",
      "Your kernel may have been built without NUMA support.\n",
      "I0000 00:00:1738275915.516412    1040 cuda_executor.cc:1001] could not open file to read NUMA node: /sys/bus/pci/devices/0000:01:00.0/numa_node\n",
      "Your kernel may have been built without NUMA support.\n",
      "I0000 00:00:1738275915.516709    1040 cuda_executor.cc:1001] could not open file to read NUMA node: /sys/bus/pci/devices/0000:01:00.0/numa_node\n",
      "Your kernel may have been built without NUMA support.\n",
      "2025-01-30 17:25:15.516747: I tensorflow/core/common_runtime/gpu/gpu_device.cc:2112] Could not identify NUMA node of platform GPU id 0, defaulting to 0.  Your kernel may not have been built with NUMA support.\n",
      "I0000 00:00:1738275915.516975    1040 cuda_executor.cc:1001] could not open file to read NUMA node: /sys/bus/pci/devices/0000:01:00.0/numa_node\n",
      "Your kernel may have been built without NUMA support.\n",
      "2025-01-30 17:25:15.517884: I tensorflow/core/common_runtime/gpu/gpu_device.cc:2021] Created device /job:localhost/replica:0/task:0/device:GPU:0 with 2863 MB memory:  -> device: 0, name: NVIDIA GeForce GTX 1050, pci bus id: 0000:01:00.0, compute capability: 6.1\n"
     ]
    },
    {
     "name": "stdout",
     "output_type": "stream",
     "text": [
      "Epoch 1/30\n"
     ]
    },
    {
     "name": "stderr",
     "output_type": "stream",
     "text": [
      "WARNING: All log messages before absl::InitializeLog() is called are written to STDERR\n",
      "I0000 00:00:1738275925.640542    1803 service.cc:146] XLA service 0x7f9734004b10 initialized for platform CUDA (this does not guarantee that XLA will be used). Devices:\n",
      "I0000 00:00:1738275925.640609    1803 service.cc:154]   StreamExecutor device (0): NVIDIA GeForce GTX 1050, Compute Capability 6.1\n",
      "2025-01-30 17:25:25.768079: I tensorflow/compiler/mlir/tensorflow/utils/dump_mlir_util.cc:268] disabling MLIR crash reproducer, set env var `MLIR_CRASH_REPRODUCER_DIRECTORY` to enable.\n",
      "2025-01-30 17:25:26.198820: I external/local_xla/xla/stream_executor/cuda/cuda_dnn.cc:531] Loaded cuDNN version 8907\n"
     ]
    },
    {
     "name": "stdout",
     "output_type": "stream",
     "text": [
      "\u001b[1m   33/22224\u001b[0m \u001b[37m━━━━━━━━━━━━━━━━━━━━\u001b[0m \u001b[1m1:49\u001b[0m 5ms/step - auc: 0.4570 - loss: 0.7917 - pr_auc: 0.2070"
     ]
    },
    {
     "name": "stderr",
     "output_type": "stream",
     "text": [
      "I0000 00:00:1738275928.014746    1803 device_compiler.h:188] Compiled cluster using XLA!  This line is logged at most once for the lifetime of the process.\n"
     ]
    },
    {
     "name": "stdout",
     "output_type": "stream",
     "text": [
      "\u001b[1m22224/22224\u001b[0m \u001b[32m━━━━━━━━━━━━━━━━━━━━\u001b[0m\u001b[37m\u001b[0m \u001b[1m143s\u001b[0m 6ms/step - auc: 0.9036 - loss: 0.3384 - pr_auc: 0.8562\n",
      "Epoch 2/30\n",
      "\u001b[1m22224/22224\u001b[0m \u001b[32m━━━━━━━━━━━━━━━━━━━━\u001b[0m\u001b[37m\u001b[0m \u001b[1m140s\u001b[0m 6ms/step - auc: 0.9228 - loss: 0.3031 - pr_auc: 0.8806\n",
      "Epoch 3/30\n",
      "\u001b[1m22224/22224\u001b[0m \u001b[32m━━━━━━━━━━━━━━━━━━━━\u001b[0m\u001b[37m\u001b[0m \u001b[1m134s\u001b[0m 6ms/step - auc: 0.9260 - loss: 0.2989 - pr_auc: 0.8840\n",
      "Epoch 4/30\n",
      "\u001b[1m22224/22224\u001b[0m \u001b[32m━━━━━━━━━━━━━━━━━━━━\u001b[0m\u001b[37m\u001b[0m \u001b[1m78s\u001b[0m 3ms/step - auc: 0.9267 - loss: 0.2979 - pr_auc: 0.8852\n",
      "Epoch 5/30\n",
      "\u001b[1m22224/22224\u001b[0m \u001b[32m━━━━━━━━━━━━━━━━━━━━\u001b[0m\u001b[37m\u001b[0m \u001b[1m87s\u001b[0m 4ms/step - auc: 0.9274 - loss: 0.2970 - pr_auc: 0.8853\n",
      "Epoch 6/30\n",
      "\u001b[1m22224/22224\u001b[0m \u001b[32m━━━━━━━━━━━━━━━━━━━━\u001b[0m\u001b[37m\u001b[0m \u001b[1m101s\u001b[0m 5ms/step - auc: 0.9277 - loss: 0.2973 - pr_auc: 0.8855\n",
      "Epoch 7/30\n",
      "\u001b[1m22224/22224\u001b[0m \u001b[32m━━━━━━━━━━━━━━━━━━━━\u001b[0m\u001b[37m\u001b[0m \u001b[1m84s\u001b[0m 4ms/step - auc: 0.9275 - loss: 0.2968 - pr_auc: 0.8854\n",
      "Epoch 8/30\n",
      "\u001b[1m22224/22224\u001b[0m \u001b[32m━━━━━━━━━━━━━━━━━━━━\u001b[0m\u001b[37m\u001b[0m \u001b[1m96s\u001b[0m 4ms/step - auc: 0.9285 - loss: 0.2955 - pr_auc: 0.8863\n",
      "Epoch 9/30\n",
      "\u001b[1m22224/22224\u001b[0m \u001b[32m━━━━━━━━━━━━━━━━━━━━\u001b[0m\u001b[37m\u001b[0m \u001b[1m77s\u001b[0m 3ms/step - auc: 0.9281 - loss: 0.2965 - pr_auc: 0.8856\n",
      "Epoch 10/30\n",
      "\u001b[1m22224/22224\u001b[0m \u001b[32m━━━━━━━━━━━━━━━━━━━━\u001b[0m\u001b[37m\u001b[0m \u001b[1m80s\u001b[0m 4ms/step - auc: 0.9289 - loss: 0.2949 - pr_auc: 0.8867\n",
      "Epoch 11/30\n",
      "\u001b[1m22224/22224\u001b[0m \u001b[32m━━━━━━━━━━━━━━━━━━━━\u001b[0m\u001b[37m\u001b[0m \u001b[1m79s\u001b[0m 4ms/step - auc: 0.9302 - loss: 0.2931 - pr_auc: 0.8885\n",
      "Epoch 12/30\n",
      "\u001b[1m22224/22224\u001b[0m \u001b[32m━━━━━━━━━━━━━━━━━━━━\u001b[0m\u001b[37m\u001b[0m \u001b[1m92s\u001b[0m 4ms/step - auc: 0.9297 - loss: 0.2940 - pr_auc: 0.8878\n",
      "Epoch 13/30\n",
      "\u001b[1m22224/22224\u001b[0m \u001b[32m━━━━━━━━━━━━━━━━━━━━\u001b[0m\u001b[37m\u001b[0m \u001b[1m88s\u001b[0m 4ms/step - auc: 0.9296 - loss: 0.2943 - pr_auc: 0.8878\n",
      "Epoch 14/30\n",
      "\u001b[1m22224/22224\u001b[0m \u001b[32m━━━━━━━━━━━━━━━━━━━━\u001b[0m\u001b[37m\u001b[0m \u001b[1m79s\u001b[0m 4ms/step - auc: 0.9300 - loss: 0.2933 - pr_auc: 0.8876\n",
      "Epoch 15/30\n",
      "\u001b[1m22224/22224\u001b[0m \u001b[32m━━━━━━━━━━━━━━━━━━━━\u001b[0m\u001b[37m\u001b[0m \u001b[1m74s\u001b[0m 3ms/step - auc: 0.9304 - loss: 0.2930 - pr_auc: 0.8886\n",
      "Epoch 16/30\n",
      "\u001b[1m22224/22224\u001b[0m \u001b[32m━━━━━━━━━━━━━━━━━━━━\u001b[0m\u001b[37m\u001b[0m \u001b[1m72s\u001b[0m 3ms/step - auc: 0.9301 - loss: 0.2934 - pr_auc: 0.8883\n",
      "Epoch 17/30\n",
      "\u001b[1m22224/22224\u001b[0m \u001b[32m━━━━━━━━━━━━━━━━━━━━\u001b[0m\u001b[37m\u001b[0m \u001b[1m72s\u001b[0m 3ms/step - auc: 0.9308 - loss: 0.2918 - pr_auc: 0.8890\n",
      "Epoch 18/30\n",
      "\u001b[1m22224/22224\u001b[0m \u001b[32m━━━━━━━━━━━━━━━━━━━━\u001b[0m\u001b[37m\u001b[0m \u001b[1m78s\u001b[0m 3ms/step - auc: 0.9307 - loss: 0.2928 - pr_auc: 0.8890\n",
      "Epoch 19/30\n",
      "\u001b[1m22224/22224\u001b[0m \u001b[32m━━━━━━━━━━━━━━━━━━━━\u001b[0m\u001b[37m\u001b[0m \u001b[1m76s\u001b[0m 3ms/step - auc: 0.9305 - loss: 0.2922 - pr_auc: 0.8886\n",
      "Epoch 20/30\n",
      "\u001b[1m22224/22224\u001b[0m \u001b[32m━━━━━━━━━━━━━━━━━━━━\u001b[0m\u001b[37m\u001b[0m \u001b[1m75s\u001b[0m 3ms/step - auc: 0.9302 - loss: 0.2934 - pr_auc: 0.8878\n",
      "Epoch 21/30\n",
      "\u001b[1m22224/22224\u001b[0m \u001b[32m━━━━━━━━━━━━━━━━━━━━\u001b[0m\u001b[37m\u001b[0m \u001b[1m75s\u001b[0m 3ms/step - auc: 0.9298 - loss: 0.2943 - pr_auc: 0.8875\n",
      "Epoch 22/30\n",
      "\u001b[1m22224/22224\u001b[0m \u001b[32m━━━━━━━━━━━━━━━━━━━━\u001b[0m\u001b[37m\u001b[0m \u001b[1m78s\u001b[0m 3ms/step - auc: 0.9308 - loss: 0.2921 - pr_auc: 0.8884\n",
      "Epoch 23/30\n",
      "\u001b[1m22224/22224\u001b[0m \u001b[32m━━━━━━━━━━━━━━━━━━━━\u001b[0m\u001b[37m\u001b[0m \u001b[1m81s\u001b[0m 4ms/step - auc: 0.9306 - loss: 0.2930 - pr_auc: 0.8890\n",
      "Epoch 24/30\n",
      "\u001b[1m22224/22224\u001b[0m \u001b[32m━━━━━━━━━━━━━━━━━━━━\u001b[0m\u001b[37m\u001b[0m \u001b[1m76s\u001b[0m 3ms/step - auc: 0.9309 - loss: 0.2921 - pr_auc: 0.8890\n",
      "Epoch 25/30\n",
      "\u001b[1m22224/22224\u001b[0m \u001b[32m━━━━━━━━━━━━━━━━━━━━\u001b[0m\u001b[37m\u001b[0m \u001b[1m77s\u001b[0m 3ms/step - auc: 0.9311 - loss: 0.2917 - pr_auc: 0.8893\n",
      "Epoch 26/30\n",
      "\u001b[1m22224/22224\u001b[0m \u001b[32m━━━━━━━━━━━━━━━━━━━━\u001b[0m\u001b[37m\u001b[0m \u001b[1m78s\u001b[0m 3ms/step - auc: 0.9308 - loss: 0.2934 - pr_auc: 0.8890\n",
      "Epoch 27/30\n",
      "\u001b[1m22224/22224\u001b[0m \u001b[32m━━━━━━━━━━━━━━━━━━━━\u001b[0m\u001b[37m\u001b[0m \u001b[1m76s\u001b[0m 3ms/step - auc: 0.9309 - loss: 0.2921 - pr_auc: 0.8892\n",
      "Epoch 28/30\n",
      "\u001b[1m22224/22224\u001b[0m \u001b[32m━━━━━━━━━━━━━━━━━━━━\u001b[0m\u001b[37m\u001b[0m \u001b[1m75s\u001b[0m 3ms/step - auc: 0.9319 - loss: 0.2899 - pr_auc: 0.8897\n",
      "Epoch 29/30\n",
      "\u001b[1m22224/22224\u001b[0m \u001b[32m━━━━━━━━━━━━━━━━━━━━\u001b[0m\u001b[37m\u001b[0m \u001b[1m90s\u001b[0m 4ms/step - auc: 0.9307 - loss: 0.2927 - pr_auc: 0.8885\n",
      "Epoch 30/30\n",
      "\u001b[1m22224/22224\u001b[0m \u001b[32m━━━━━━━━━━━━━━━━━━━━\u001b[0m\u001b[37m\u001b[0m \u001b[1m80s\u001b[0m 4ms/step - auc: 0.9317 - loss: 0.2904 - pr_auc: 0.8899\n"
     ]
    },
    {
     "data": {
      "text/plain": [
       "<keras.src.callbacks.history.History at 0x7f983fab67c0>"
      ]
     },
     "execution_count": 2,
     "metadata": {},
     "output_type": "execute_result"
    }
   ],
   "source": [
    "from sklearn.utils import class_weight\n",
    "import numpy as np\n",
    "# Definir y compilar el modelo\n",
    "from tensorflow import keras\n",
    "from tensorflow.keras import layers\n",
    "\n",
    "\n",
    "# Supongamos que dEntrenamiento_balanced contiene todas las columnas\n",
    "X = dEntrenamiento_balanced.drop(\"target\", axis=1)\n",
    "y = dEntrenamiento_balanced[\"target\"]\n",
    "\n",
    "# Normalización opcional\n",
    "from sklearn.preprocessing import StandardScaler\n",
    "scaler = StandardScaler()\n",
    "X_scaled = scaler.fit_transform(X)\n",
    "\n",
    "# División de datos\n",
    "from sklearn.model_selection import train_test_split\n",
    "X_train, X_test, y_train, y_test = train_test_split(X_scaled, y, test_size=0.2, random_state=42)\n",
    "\n",
    "# Calcular pesos de clase para manejar la clase minoritaria\n",
    "classes = np.unique(y_train)\n",
    "weights = class_weight.compute_class_weight(class_weight=\"balanced\", classes=classes, y=y_train)\n",
    "class_weights = dict(zip(classes, weights))\n",
    "\n",
    "\n",
    "model = keras.Sequential([\n",
    "    layers.Dense(32, activation=\"relu\", input_shape=(X_scaled.shape[1],)),\n",
    "    layers.Dense(16, activation=\"relu\"),\n",
    "    layers.Dense(1, activation=\"sigmoid\")\n",
    "])\n",
    "\n",
    "model.compile(optimizer=\"adam\", loss=\"binary_crossentropy\", metrics=[keras.metrics.AUC(name=\"auc\", curve=\"ROC\"),keras.metrics.AUC(name=\"pr_auc\", curve=\"PR\")])\n",
    "y_train = y_train.reset_index(drop=True)\n",
    "X_train = pd.DataFrame(X_train).reset_index(drop=True)\n",
    "\n",
    "model.fit(X_train, y_train, epochs=30, batch_size=32, verbose=1, class_weight=class_weights)"
   ]
  },
  {
   "cell_type": "code",
   "execution_count": 3,
   "metadata": {},
   "outputs": [
    {
     "name": "stdout",
     "output_type": "stream",
     "text": [
      "\u001b[1m5556/5556\u001b[0m \u001b[32m━━━━━━━━━━━━━━━━━━━━\u001b[0m\u001b[37m\u001b[0m \u001b[1m10s\u001b[0m 2ms/step\n",
      "0.9173496076721883 0.8684512964260687 0.7559719883854281 0.8083174619739623\n"
     ]
    }
   ],
   "source": [
    "\n",
    "from sklearn.metrics import f1_score, precision_score, recall_score,accuracy_score\n",
    "\n",
    "\n",
    "y_pred_probs = model.predict(X_test)\n",
    "y_pred_classes = (y_pred_probs >= 0.5).astype(int)  # Ajustar umbral\n",
    "acc = accuracy_score(y_test, y_pred_classes)\n",
    "prec = precision_score(y_test, y_pred_classes)\n",
    "rec = recall_score(y_test, y_pred_classes)\n",
    "f1 = f1_score(y_test, y_pred_classes)\n",
    "print(acc, prec, rec, f1)"
   ]
  },
  {
   "cell_type": "markdown",
   "metadata": {},
   "source": [
    "# Metricas datos de testeo\n",
    "\n",
    "Exactitud 0.9173496076721883\n",
    "\n",
    "Presición 0.8684512964260687\n",
    "\n",
    "Recall 0.7559719883854281 \n",
    "\n",
    "F1 score 0.8083174619739623"
   ]
  },
  {
   "cell_type": "code",
   "execution_count": 4,
   "metadata": {},
   "outputs": [
    {
     "name": "stdout",
     "output_type": "stream",
     "text": [
      "\u001b[1m24113/24113\u001b[0m \u001b[32m━━━━━━━━━━━━━━━━━━━━\u001b[0m\u001b[37m\u001b[0m \u001b[1m41s\u001b[0m 2ms/step\n",
      "0.6189906572093969 0.11081669691470054 0.5779510213915707 0.1859745207762829\n"
     ]
    }
   ],
   "source": [
    "X = dEntrenamiento.drop(\"target\", axis=1)\n",
    "y = dEntrenamiento[\"target\"]\n",
    "\n",
    "scaler = StandardScaler()\n",
    "X_scaled = scaler.fit_transform(X)\n",
    "y_pred_probs = model.predict(X_scaled)\n",
    "y_pred_classes = (y_pred_probs >= 0.5).astype(int)  # Ajustar umbral\n",
    "acc = accuracy_score(y, y_pred_classes)\n",
    "prec = precision_score(y, y_pred_classes)\n",
    "rec = recall_score(y, y_pred_classes)\n",
    "f1 = f1_score(y, y_pred_classes)\n",
    "print(acc, prec, rec, f1)"
   ]
  },
  {
   "cell_type": "markdown",
   "metadata": {},
   "source": [
    "# Metricas datos de entrenamiento\n",
    "\n",
    "Exactitud 0.6189906572093969\n",
    "\n",
    "Presición 0.11081669691470054\n",
    "\n",
    "Recall 0.5779510213915707\n",
    "\n",
    "F1 score 0.1859745207762829   "
   ]
  },
  {
   "cell_type": "code",
   "execution_count": 5,
   "metadata": {},
   "outputs": [
    {
     "name": "stdout",
     "output_type": "stream",
     "text": [
      "\u001b[1m27779/27779\u001b[0m \u001b[32m━━━━━━━━━━━━━━━━━━━━\u001b[0m\u001b[37m\u001b[0m \u001b[1m47s\u001b[0m 2ms/step\n",
      "0.6830467880795075 0.41242955935303194 0.8794507058731769 0.5615248980252459\n"
     ]
    }
   ],
   "source": [
    "# Datos de entrada\n",
    "X = dEntrenamiento_balanced.drop(\"target\", axis=1)\n",
    "y = dEntrenamiento_balanced[\"target\"]\n",
    "\n",
    "\n",
    "X_scaled = scaler.transform(X)\n",
    "y_pred_probs = model.predict(X_scaled)\n",
    "y_pred_classes = (y_pred_probs >= 0.5).astype(int)  # Ajustar umbral\n",
    "acc = accuracy_score(y, y_pred_classes)\n",
    "prec = precision_score(y, y_pred_classes)\n",
    "rec = recall_score(y, y_pred_classes)\n",
    "f1 = f1_score(y, y_pred_classes)\n",
    "print(acc, prec, rec, f1)"
   ]
  },
  {
   "cell_type": "markdown",
   "metadata": {},
   "source": [
    "# Metricas datos de entrenamiento balanceado\n",
    "\n",
    "Exactitud 0.6189906572093969\n",
    "\n",
    "Presición 0.11081669691470054\n",
    "\n",
    "Recall 0.5779510213915707\n",
    "\n",
    "F1 score 0.1859745207762829 "
   ]
  },
  {
   "cell_type": "markdown",
   "metadata": {},
   "source": [
    "## Optimización de Redes neuronales"
   ]
  },
  {
   "cell_type": "markdown",
   "metadata": {},
   "source": [
    "Resumen de la Optimización Realizada\n",
    "Objetivo de la Optimización:\n",
    "Optimizar la arquitectura y los hiperparámetros de una red neuronal para maximizar la precisión (accuracy) en la clasificación de estados de préstamos, manejando al mismo tiempo posibles desbalances en las clases.\n",
    "Hiperparámetros Probados:\n",
    "1.\tNúmero de Capas Ocultas (num_layers):\n",
    "o\tValores Probados: 1, 2, 3\n",
    "o\tDescripción: Determina la profundidad de la red neuronal.\n",
    "2.\tUnidades por Capa Oculta (units_0, units_1, units_2):\n",
    "o\tValores Probados por Capa: 16, 32, 48, ..., 128\n",
    "o\tDescripción: Número de neuronas en cada capa oculta, afectando la capacidad del modelo para aprender patrones complejos.\n",
    "3.\tRegularización L2 (l2_0, l2_1, l2_2):\n",
    "o\tValores Probados: Entre 0.0001 y 0.01 (muestreados logarítmicamente)\n",
    "o\tDescripción: Previene el sobreajuste penalizando los pesos grandes en las capas ocultas.\n",
    "4.\tTasa de Dropout (dropout_0, dropout_1, dropout_2):\n",
    "o\tValores Probados: 0.1, 0.2, 0.3, 0.4, 0.5\n",
    "o\tDescripción: Proporción de neuronas que se desactivan durante el entrenamiento para mejorar la generalización.\n",
    "5.\tTasa de Aprendizaje (learning_rate):\n",
    "o\tValores Probados: 0.001, 0.0005, 0.0001\n",
    "o\tDescripción: Velocidad a la que el modelo actualiza sus pesos, influyendo en la convergencia y estabilidad del entrenamiento.\n",
    "Proceso de Evaluación:\n",
    "•\tMétrica Objetivo: val_accuracy para maximizar la precisión en el conjunto de validación.\n",
    "•\tEstrategia de Entorno de Evaluación: Uso de EarlyStopping para detener el entrenamiento si no hay mejora en la pérdida de validación durante 4 épocas consecutivas, lo que ayuda a prevenir el sobreajuste y reduce el tiempo de entrenamiento.\n",
    "Resultados Esperados:\n",
    "•\tSelección del Mejor Modelo: Después de probar hasta 5 combinaciones diferentes de hiperparámetros (max_trials=5), se espera que Keras Tuner identifique la configuración que maximiza val_accuracy.\n",
    "•\tMejora del Rendimiento: La optimización debe conducir a una arquitectura que balancee la capacidad (modelos suficientemente complejos para capturar patrones), regularización (para evitar sobreajuste) y tasa de aprendizaje (para una convergencia eficiente).\n",
    "•\tGuardado del Mejor Modelo: El modelo con la mejor configuración se guarda para su reutilización futura y puede ser analizado mediante summary() para comprender su estructura.\n"
   ]
  },
  {
   "cell_type": "code",
   "execution_count": 31,
   "metadata": {},
   "outputs": [
    {
     "name": "stdout",
     "output_type": "stream",
     "text": [
      "Reloading Tuner from my_tuner_dir\\hyperparam_opt\\tuner0.json\n"
     ]
    },
    {
     "name": "stderr",
     "output_type": "stream",
     "text": [
      "c:\\Users\\Julia\\AppData\\Local\\Programs\\Python\\Python312\\Lib\\site-packages\\keras\\src\\saving\\saving_lib.py:757: UserWarning: Skipping variable loading for optimizer 'adam', because it has 2 variables whereas the saved optimizer has 18 variables. \n",
      "  saveable.load_own_variables(weights_store.get(inner_path))\n",
      "WARNING:absl:You are saving your model as an HDF5 file via `model.save()` or `keras.saving.save_model(model)`. This file format is considered legacy. We recommend using instead the native Keras format, e.g. `model.save('my_model.keras')` or `keras.saving.save_model(model, 'my_model.keras')`. \n"
     ]
    },
    {
     "data": {
      "text/html": [
       "<pre style=\"white-space:pre;overflow-x:auto;line-height:normal;font-family:Menlo,'DejaVu Sans Mono',consolas,'Courier New',monospace\"><span style=\"font-weight: bold\">Model: \"sequential\"</span>\n",
       "</pre>\n"
      ],
      "text/plain": [
       "\u001b[1mModel: \"sequential\"\u001b[0m\n"
      ]
     },
     "metadata": {},
     "output_type": "display_data"
    },
    {
     "data": {
      "text/html": [
       "<pre style=\"white-space:pre;overflow-x:auto;line-height:normal;font-family:Menlo,'DejaVu Sans Mono',consolas,'Courier New',monospace\">┏━━━━━━━━━━━━━━━━━━━━━━━━━━━━━━━━━┳━━━━━━━━━━━━━━━━━━━━━━━━┳━━━━━━━━━━━━━━━┓\n",
       "┃<span style=\"font-weight: bold\"> Layer (type)                    </span>┃<span style=\"font-weight: bold\"> Output Shape           </span>┃<span style=\"font-weight: bold\">       Param # </span>┃\n",
       "┡━━━━━━━━━━━━━━━━━━━━━━━━━━━━━━━━━╇━━━━━━━━━━━━━━━━━━━━━━━━╇━━━━━━━━━━━━━━━┩\n",
       "│ dense (<span style=\"color: #0087ff; text-decoration-color: #0087ff\">Dense</span>)                   │ (<span style=\"color: #00d7ff; text-decoration-color: #00d7ff\">None</span>, <span style=\"color: #00af00; text-decoration-color: #00af00\">64</span>)             │         <span style=\"color: #00af00; text-decoration-color: #00af00\">4,544</span> │\n",
       "├─────────────────────────────────┼────────────────────────┼───────────────┤\n",
       "│ dropout (<span style=\"color: #0087ff; text-decoration-color: #0087ff\">Dropout</span>)               │ (<span style=\"color: #00d7ff; text-decoration-color: #00d7ff\">None</span>, <span style=\"color: #00af00; text-decoration-color: #00af00\">64</span>)             │             <span style=\"color: #00af00; text-decoration-color: #00af00\">0</span> │\n",
       "├─────────────────────────────────┼────────────────────────┼───────────────┤\n",
       "│ dense_1 (<span style=\"color: #0087ff; text-decoration-color: #0087ff\">Dense</span>)                 │ (<span style=\"color: #00d7ff; text-decoration-color: #00d7ff\">None</span>, <span style=\"color: #00af00; text-decoration-color: #00af00\">16</span>)             │         <span style=\"color: #00af00; text-decoration-color: #00af00\">1,040</span> │\n",
       "├─────────────────────────────────┼────────────────────────┼───────────────┤\n",
       "│ dropout_1 (<span style=\"color: #0087ff; text-decoration-color: #0087ff\">Dropout</span>)             │ (<span style=\"color: #00d7ff; text-decoration-color: #00d7ff\">None</span>, <span style=\"color: #00af00; text-decoration-color: #00af00\">16</span>)             │             <span style=\"color: #00af00; text-decoration-color: #00af00\">0</span> │\n",
       "├─────────────────────────────────┼────────────────────────┼───────────────┤\n",
       "│ dense_2 (<span style=\"color: #0087ff; text-decoration-color: #0087ff\">Dense</span>)                 │ (<span style=\"color: #00d7ff; text-decoration-color: #00d7ff\">None</span>, <span style=\"color: #00af00; text-decoration-color: #00af00\">16</span>)             │           <span style=\"color: #00af00; text-decoration-color: #00af00\">272</span> │\n",
       "├─────────────────────────────────┼────────────────────────┼───────────────┤\n",
       "│ dropout_2 (<span style=\"color: #0087ff; text-decoration-color: #0087ff\">Dropout</span>)             │ (<span style=\"color: #00d7ff; text-decoration-color: #00d7ff\">None</span>, <span style=\"color: #00af00; text-decoration-color: #00af00\">16</span>)             │             <span style=\"color: #00af00; text-decoration-color: #00af00\">0</span> │\n",
       "├─────────────────────────────────┼────────────────────────┼───────────────┤\n",
       "│ dense_3 (<span style=\"color: #0087ff; text-decoration-color: #0087ff\">Dense</span>)                 │ (<span style=\"color: #00d7ff; text-decoration-color: #00d7ff\">None</span>, <span style=\"color: #00af00; text-decoration-color: #00af00\">1</span>)              │            <span style=\"color: #00af00; text-decoration-color: #00af00\">17</span> │\n",
       "└─────────────────────────────────┴────────────────────────┴───────────────┘\n",
       "</pre>\n"
      ],
      "text/plain": [
       "┏━━━━━━━━━━━━━━━━━━━━━━━━━━━━━━━━━┳━━━━━━━━━━━━━━━━━━━━━━━━┳━━━━━━━━━━━━━━━┓\n",
       "┃\u001b[1m \u001b[0m\u001b[1mLayer (type)                   \u001b[0m\u001b[1m \u001b[0m┃\u001b[1m \u001b[0m\u001b[1mOutput Shape          \u001b[0m\u001b[1m \u001b[0m┃\u001b[1m \u001b[0m\u001b[1m      Param #\u001b[0m\u001b[1m \u001b[0m┃\n",
       "┡━━━━━━━━━━━━━━━━━━━━━━━━━━━━━━━━━╇━━━━━━━━━━━━━━━━━━━━━━━━╇━━━━━━━━━━━━━━━┩\n",
       "│ dense (\u001b[38;5;33mDense\u001b[0m)                   │ (\u001b[38;5;45mNone\u001b[0m, \u001b[38;5;34m64\u001b[0m)             │         \u001b[38;5;34m4,544\u001b[0m │\n",
       "├─────────────────────────────────┼────────────────────────┼───────────────┤\n",
       "│ dropout (\u001b[38;5;33mDropout\u001b[0m)               │ (\u001b[38;5;45mNone\u001b[0m, \u001b[38;5;34m64\u001b[0m)             │             \u001b[38;5;34m0\u001b[0m │\n",
       "├─────────────────────────────────┼────────────────────────┼───────────────┤\n",
       "│ dense_1 (\u001b[38;5;33mDense\u001b[0m)                 │ (\u001b[38;5;45mNone\u001b[0m, \u001b[38;5;34m16\u001b[0m)             │         \u001b[38;5;34m1,040\u001b[0m │\n",
       "├─────────────────────────────────┼────────────────────────┼───────────────┤\n",
       "│ dropout_1 (\u001b[38;5;33mDropout\u001b[0m)             │ (\u001b[38;5;45mNone\u001b[0m, \u001b[38;5;34m16\u001b[0m)             │             \u001b[38;5;34m0\u001b[0m │\n",
       "├─────────────────────────────────┼────────────────────────┼───────────────┤\n",
       "│ dense_2 (\u001b[38;5;33mDense\u001b[0m)                 │ (\u001b[38;5;45mNone\u001b[0m, \u001b[38;5;34m16\u001b[0m)             │           \u001b[38;5;34m272\u001b[0m │\n",
       "├─────────────────────────────────┼────────────────────────┼───────────────┤\n",
       "│ dropout_2 (\u001b[38;5;33mDropout\u001b[0m)             │ (\u001b[38;5;45mNone\u001b[0m, \u001b[38;5;34m16\u001b[0m)             │             \u001b[38;5;34m0\u001b[0m │\n",
       "├─────────────────────────────────┼────────────────────────┼───────────────┤\n",
       "│ dense_3 (\u001b[38;5;33mDense\u001b[0m)                 │ (\u001b[38;5;45mNone\u001b[0m, \u001b[38;5;34m1\u001b[0m)              │            \u001b[38;5;34m17\u001b[0m │\n",
       "└─────────────────────────────────┴────────────────────────┴───────────────┘\n"
      ]
     },
     "metadata": {},
     "output_type": "display_data"
    },
    {
     "data": {
      "text/html": [
       "<pre style=\"white-space:pre;overflow-x:auto;line-height:normal;font-family:Menlo,'DejaVu Sans Mono',consolas,'Courier New',monospace\"><span style=\"font-weight: bold\"> Total params: </span><span style=\"color: #00af00; text-decoration-color: #00af00\">5,873</span> (22.94 KB)\n",
       "</pre>\n"
      ],
      "text/plain": [
       "\u001b[1m Total params: \u001b[0m\u001b[38;5;34m5,873\u001b[0m (22.94 KB)\n"
      ]
     },
     "metadata": {},
     "output_type": "display_data"
    },
    {
     "data": {
      "text/html": [
       "<pre style=\"white-space:pre;overflow-x:auto;line-height:normal;font-family:Menlo,'DejaVu Sans Mono',consolas,'Courier New',monospace\"><span style=\"font-weight: bold\"> Trainable params: </span><span style=\"color: #00af00; text-decoration-color: #00af00\">5,873</span> (22.94 KB)\n",
       "</pre>\n"
      ],
      "text/plain": [
       "\u001b[1m Trainable params: \u001b[0m\u001b[38;5;34m5,873\u001b[0m (22.94 KB)\n"
      ]
     },
     "metadata": {},
     "output_type": "display_data"
    },
    {
     "data": {
      "text/html": [
       "<pre style=\"white-space:pre;overflow-x:auto;line-height:normal;font-family:Menlo,'DejaVu Sans Mono',consolas,'Courier New',monospace\"><span style=\"font-weight: bold\"> Non-trainable params: </span><span style=\"color: #00af00; text-decoration-color: #00af00\">0</span> (0.00 B)\n",
       "</pre>\n"
      ],
      "text/plain": [
       "\u001b[1m Non-trainable params: \u001b[0m\u001b[38;5;34m0\u001b[0m (0.00 B)\n"
      ]
     },
     "metadata": {},
     "output_type": "display_data"
    }
   ],
   "source": [
    "import numpy as np\n",
    "import pandas as pd\n",
    "import tensorflow as tf\n",
    "from tensorflow import keras\n",
    "from tensorflow.keras import layers\n",
    "from keras_tuner import RandomSearch, Objective\n",
    "from sklearn.utils import class_weight\n",
    "from sklearn.preprocessing import StandardScaler\n",
    "from sklearn.model_selection import train_test_split\n",
    "\n",
    "# Datos de entrada\n",
    "X = dEntrenamiento_balanced.drop(\"target\", axis=1)\n",
    "y = dEntrenamiento_balanced[\"target\"]\n",
    "\n",
    "scaler = StandardScaler()\n",
    "X_scaled = scaler.fit_transform(X)\n",
    "X_train, X_test, y_train, y_test = train_test_split(X_scaled, y, test_size=0.2, random_state=42)\n",
    "\n",
    "# Ajustar pesos de clase\n",
    "classes = np.unique(y_train)\n",
    "weights = class_weight.compute_class_weight(class_weight=\"balanced\", classes=classes, y=y_train)\n",
    "class_weights = dict(zip(classes, weights))\n",
    "\n",
    "# Convertir a DataFrame y Series con índices reiniciados\n",
    "X_train = pd.DataFrame(X_train).reset_index(drop=True)\n",
    "y_train = y_train.reset_index(drop=True)\n",
    "\n",
    "# Definición de función de construcción de modelo para Keras Tuner\n",
    "def build_model(hp):\n",
    "    model = keras.Sequential()\n",
    "    # Número de capas ocultas\n",
    "    for i in range(hp.Int(\"num_layers\", min_value=1, max_value=3)):\n",
    "        model.add(layers.Dense(\n",
    "            units=hp.Int(\"units_\" + str(i), min_value=16, max_value=128, step=16),\n",
    "            activation=\"relu\",\n",
    "            kernel_regularizer=keras.regularizers.l2(hp.Float(\"l2_\" + str(i), 0.0001, 0.01, sampling=\"log\"))\n",
    "        ))\n",
    "        model.add(layers.Dropout(hp.Float(\"dropout_\" + str(i), 0.1, 0.5, step=0.1)))\n",
    "    \n",
    "    model.add(layers.Dense(1, activation=\"sigmoid\"))\n",
    "    \n",
    "    # Tasa de aprendizaje variable\n",
    "    lr = hp.Choice(\"learning_rate\", values=[1e-3, 5e-4, 1e-4])\n",
    "    opt = keras.optimizers.Adam(learning_rate=lr)\n",
    "\n",
    "    model.compile(optimizer=opt, loss=\"binary_crossentropy\", metrics=[keras.metrics.AUC(name=\"auc\", curve=\"ROC\"),\n",
    "        keras.metrics.AUC(name=\"pr_auc\", curve=\"PR\")])\n",
    "    return model\n",
    "\n",
    "# Configuración de la búsqueda aleatoria\n",
    "tuner = RandomSearch(\n",
    "    build_model,\n",
    "    objective=Objective(\"val_accuracy\", direction=\"max\"),\n",
    "    max_trials=5,\n",
    "    executions_per_trial=1,\n",
    "    directory=\"my_tuner_dir\",\n",
    "    project_name=\"hyperparam_opt\"\n",
    ")\n",
    "\n",
    "stop_early = keras.callbacks.EarlyStopping(monitor=\"val_loss\", patience=4, restore_best_weights=True)\n",
    "\n",
    "# Búsqueda de hiperparámetros\n",
    "tuner.search(\n",
    "    X_train, y_train,\n",
    "    epochs=40,\n",
    "    validation_split=0.2,\n",
    "    callbacks=[stop_early],\n",
    "    class_weight=class_weights,\n",
    "    verbose=0\n",
    ")\n",
    "\n",
    "# Obtener el mejor modelo y guardarlo\n",
    "best_model = tuner.get_best_models(num_models=1)[0]\n",
    "best_model.save(\"best_model.h5\")\n",
    "\n",
    "# Imprimir la arquitectura del mejor modelo\n",
    "best_model.summary()"
   ]
  },
  {
   "cell_type": "markdown",
   "metadata": {},
   "source": [
    "## Red neuronal resultante\n",
    "\n",
    "La red neuronal resultante es un modelo **secuencial** compuesto por tres capas ocultas densas y tres capas de **Dropout** para prevenir sobreajuste. \n",
    "\n",
    "1. **Primera capa densa**: 64 neuronas con activación ReLU, seguida de una capa de Dropout.\n",
    "2. **Segunda y tercera capa densa**: Cada una con 16 neuronas y activación ReLU, intercaladas con capas de Dropout.\n",
    "3. **Capa de salida**: Una neurona con activación **sigmoide** para clasificación binaria.\n",
    "\n",
    "En total, el modelo tiene **5,873 parámetros entrenables**, lo que lo hace relativamente ligero y adecuado para tareas de clasificación binaria con conjuntos de datos moderados.\n",
    "\n"
   ]
  },
  {
   "cell_type": "markdown",
   "metadata": {},
   "source": [
    "## Prueba final de rendimiento"
   ]
  },
  {
   "cell_type": "code",
   "execution_count": 32,
   "metadata": {},
   "outputs": [
    {
     "name": "stdout",
     "output_type": "stream",
     "text": [
      "\u001b[1m5556/5556\u001b[0m \u001b[32m━━━━━━━━━━━━━━━━━━━━\u001b[0m\u001b[37m\u001b[0m \u001b[1m2s\u001b[0m 429us/step\n",
      "0.9338920606350367 0.9986693053091306 0.7141741697777128 0.8327950946778393\n"
     ]
    }
   ],
   "source": [
    "y_pred_probs = best_model.predict(X_test)\n",
    "y_pred_classes = (y_pred_probs >= 0.5).astype(int)  # Ajustar umbral\n",
    "acc = accuracy_score(y_test, y_pred_classes)\n",
    "prec = precision_score(y_test, y_pred_classes)\n",
    "rec = recall_score(y_test, y_pred_classes)\n",
    "f1 = f1_score(y_test, y_pred_classes)\n",
    "print(acc, prec, rec, f1)"
   ]
  },
  {
   "cell_type": "markdown",
   "metadata": {},
   "source": [
    "# Metricas datos de testeo\n",
    "\n",
    "Exactitud 0.9338920606350367\n",
    "\n",
    "Presición 0.9986693053091306\n",
    "\n",
    "Recall 0.7141741697777128\n",
    "\n",
    "F1 score 0.8327950946778393   "
   ]
  },
  {
   "cell_type": "code",
   "execution_count": 6,
   "metadata": {},
   "outputs": [
    {
     "name": "stderr",
     "output_type": "stream",
     "text": [
      "WARNING:absl:Compiled the loaded model, but the compiled metrics have yet to be built. `model.compile_metrics` will be empty until you train or evaluate the model.\n"
     ]
    }
   ],
   "source": [
    "from tensorflow.keras.models import load_model\n",
    "best_model=load_model(\"best_model.h5\")"
   ]
  },
  {
   "cell_type": "code",
   "execution_count": 7,
   "metadata": {},
   "outputs": [
    {
     "name": "stdout",
     "output_type": "stream",
     "text": [
      "\u001b[1m24113/24113\u001b[0m \u001b[32m━━━━━━━━━━━━━━━━━━━━\u001b[0m\u001b[37m\u001b[0m \u001b[1m46s\u001b[0m 2ms/step\n",
      "0.6161239277304238 0.12360648274030465 0.6728105047584628 0.20884471664801424\n"
     ]
    }
   ],
   "source": [
    "# Datos de entrada\n",
    "X = dEntrenamiento.drop(\"target\", axis=1)\n",
    "y = dEntrenamiento[\"target\"]\n",
    "\n",
    "\n",
    "X_scaled = scaler.transform(X)\n",
    "y_pred_probs = best_model.predict(X_scaled)\n",
    "y_pred_classes = (y_pred_probs >= 0.5).astype(int)  # Ajustar umbral\n",
    "acc = accuracy_score(y, y_pred_classes)\n",
    "prec = precision_score(y, y_pred_classes)\n",
    "rec = recall_score(y, y_pred_classes)\n",
    "f1 = f1_score(y, y_pred_classes)\n",
    "print(acc, prec, rec, f1)"
   ]
  },
  {
   "cell_type": "markdown",
   "metadata": {},
   "source": [
    "# Metricas datos de entrenamiento\n",
    "\n",
    "Exactitud 0.6161239277304238\n",
    "\n",
    "Presición 0.12360648274030465\n",
    "\n",
    "Recall 0.6728105047584628\n",
    "\n",
    "F1 score 0.20884471664801424  "
   ]
  },
  {
   "cell_type": "code",
   "execution_count": 8,
   "metadata": {},
   "outputs": [
    {
     "name": "stdout",
     "output_type": "stream",
     "text": [
      "\u001b[1m27779/27779\u001b[0m \u001b[32m━━━━━━━━━━━━━━━━━━━━\u001b[0m\u001b[37m\u001b[0m \u001b[1m61s\u001b[0m 2ms/step\n",
      "0.6819747042207255 0.41373457957229864 0.9067204196240543 0.5682004942706759\n"
     ]
    }
   ],
   "source": [
    "# Datos de entrada\n",
    "X = dEntrenamiento_balanced.drop(\"target\", axis=1)\n",
    "y = dEntrenamiento_balanced[\"target\"]\n",
    "\n",
    "\n",
    "X_scaled = scaler.transform(X)\n",
    "y_pred_probs = best_model.predict(X_scaled)\n",
    "y_pred_classes = (y_pred_probs >= 0.5).astype(int)  # Ajustar umbral\n",
    "acc = accuracy_score(y, y_pred_classes)\n",
    "prec = precision_score(y, y_pred_classes)\n",
    "rec = recall_score(y, y_pred_classes)\n",
    "f1 = f1_score(y, y_pred_classes)\n",
    "print(acc, prec, rec, f1)"
   ]
  },
  {
   "cell_type": "markdown",
   "metadata": {},
   "source": [
    "# Metricas datos de entrenamiento balanceados\n",
    "\n",
    "Exactitud 0.6819747042207255\n",
    "\n",
    "Presición 0.41373457957229864\n",
    "\n",
    "Recall 0.9067204196240543\n",
    "\n",
    "F1 score 0.5682004942706759 "
   ]
  }
 ],
 "metadata": {
  "kernelspec": {
   "display_name": "tf-wsl",
   "language": "python",
   "name": "python3"
  },
  "language_info": {
   "codemirror_mode": {
    "name": "ipython",
    "version": 3
   },
   "file_extension": ".py",
   "mimetype": "text/x-python",
   "name": "python",
   "nbconvert_exporter": "python",
   "pygments_lexer": "ipython3",
   "version": "3.9.19"
  }
 },
 "nbformat": 4,
 "nbformat_minor": 2
}
